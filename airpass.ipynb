{
 "cells": [
  {
   "cell_type": "code",
   "execution_count": 6,
   "id": "0e57f192",
   "metadata": {},
   "outputs": [],
   "source": [
    "import numpy as np\n",
    "import matplotlib.pyplot as plt\n",
    "import pandas as pd\n",
    "import tensorflow as tf\n",
    "from tensorflow.keras.models import Sequential\n",
    "from tensorflow.keras.layers import Dense\n",
    "from tensorflow.keras.layers import LSTM\n",
    "from sklearn.preprocessing import MinMaxScaler\n",
    "from sklearn.metrics import mean_squared_error"
   ]
  },
  {
   "cell_type": "code",
   "execution_count": 7,
   "id": "d67aaf8f",
   "metadata": {},
   "outputs": [],
   "source": [
    "tf.random.set_seed(7)"
   ]
  },
  {
   "cell_type": "code",
   "execution_count": 14,
   "id": "c61a24e2",
   "metadata": {},
   "outputs": [],
   "source": [
    "dataframe = pd.read_csv('/Users/chris/OneDrive/Documents/coventry semester 2 notes/air_data.csv', usecols=[1], engine='python') \n",
    "dataset = dataframe.values\n",
    "dataset = dataset.astype('float')"
   ]
  },
  {
   "cell_type": "code",
   "execution_count": 15,
   "id": "1b3ee7e8",
   "metadata": {},
   "outputs": [],
   "source": [
    "scaler = MinMaxScaler(feature_range=(0, 1))\n",
    "dataset = scaler.fit_transform(dataset)"
   ]
  },
  {
   "cell_type": "code",
   "execution_count": 16,
   "id": "1a4b10ea",
   "metadata": {},
   "outputs": [
    {
     "name": "stdout",
     "output_type": "stream",
     "text": [
      "96 48\n"
     ]
    }
   ],
   "source": [
    "train_size = int(len(dataset) * 0.67)\n",
    "test_size = len(dataset) - train_size\n",
    "train, test = dataset[0:train_size,:], dataset[train_size:len(dataset),:]\n",
    "print(len(train), len(test))"
   ]
  },
  {
   "cell_type": "code",
   "execution_count": 25,
   "id": "ac600dce",
   "metadata": {},
   "outputs": [],
   "source": [
    "def create_dataset(dataset, look_back=1):\n",
    "    dataX, dataY = [], []\n",
    "    for i in range(len(dataset)-look_back-1):\n",
    "        a = dataset[i:(i+look_back), 0]\n",
    "        dataX.append(a)\n",
    "        dataY.append(dataset[i + look_back, 0])\n",
    "        return np.array(dataX), np.array(dataY)"
   ]
  },
  {
   "cell_type": "code",
   "execution_count": 26,
   "id": "6d5a4be5",
   "metadata": {},
   "outputs": [],
   "source": [
    "look_back = 1\n",
    "trainX, trainY = create_dataset(train, look_back)\n",
    "testX, testY = create_dataset(test, look_back)"
   ]
  },
  {
   "cell_type": "code",
   "execution_count": 27,
   "id": "65d0ad56",
   "metadata": {},
   "outputs": [],
   "source": [
    "trainX = np.reshape(trainX, (trainX.shape[0], 1, trainX.shape[1]))\n",
    "testX = np.reshape(testX, (testX.shape[0], 1, testX.shape[1]))"
   ]
  },
  {
   "cell_type": "code",
   "execution_count": 29,
   "id": "a00edeae",
   "metadata": {},
   "outputs": [
    {
     "name": "stdout",
     "output_type": "stream",
     "text": [
      "1/1 [==============================] - 2s 2s/step\n",
      "1/1 [==============================] - 0s 68ms/step\n",
      "Train Score: 0.04 RMSE\n",
      "Test Score: 153.45 RMSE\n"
     ]
    }
   ],
   "source": [
    "# make predictions\n",
    "trainPredict = model.predict(trainX)\n",
    "testPredict = model.predict(testX)\n",
    "# invert predictions\n",
    "trainPredict = scaler.inverse_transform(trainPredict)\n",
    "trainY = scaler.inverse_transform([trainY])\n",
    "testPredict = scaler.inverse_transform(testPredict)\n",
    "testY = scaler.inverse_transform([testY])\n",
    "# calculate root mean squared error\n",
    "trainScore = np.sqrt(mean_squared_error(trainY[0], trainPredict[:,0]))\n",
    "print('Train Score: %.2f RMSE' % (trainScore))\n",
    "testScore = np.sqrt(mean_squared_error(testY[0], testPredict[:,0]))\n",
    "print('Test Score: %.2f RMSE' % (testScore))"
   ]
  },
  {
   "cell_type": "code",
   "execution_count": 28,
   "id": "7d71e91a",
   "metadata": {},
   "outputs": [
    {
     "name": "stdout",
     "output_type": "stream",
     "text": [
      "Epoch 1/100\n",
      "1/1 - 7s - loss: 6.2641e-04 - 7s/epoch - 7s/step\n",
      "Epoch 2/100\n",
      "1/1 - 0s - loss: 5.4531e-04 - 8ms/epoch - 8ms/step\n",
      "Epoch 3/100\n",
      "1/1 - 0s - loss: 4.6986e-04 - 10ms/epoch - 10ms/step\n",
      "Epoch 4/100\n",
      "1/1 - 0s - loss: 4.0018e-04 - 6ms/epoch - 6ms/step\n",
      "Epoch 5/100\n",
      "1/1 - 0s - loss: 3.3634e-04 - 0s/epoch - 0s/step\n",
      "Epoch 6/100\n",
      "1/1 - 0s - loss: 2.7843e-04 - 4ms/epoch - 4ms/step\n",
      "Epoch 7/100\n",
      "1/1 - 0s - loss: 2.2644e-04 - 14ms/epoch - 14ms/step\n",
      "Epoch 8/100\n",
      "1/1 - 0s - loss: 1.8037e-04 - 0s/epoch - 0s/step\n",
      "Epoch 9/100\n",
      "1/1 - 0s - loss: 1.4015e-04 - 0s/epoch - 0s/step\n",
      "Epoch 10/100\n",
      "1/1 - 0s - loss: 1.0564e-04 - 17ms/epoch - 17ms/step\n",
      "Epoch 11/100\n",
      "1/1 - 0s - loss: 7.6667e-05 - 8ms/epoch - 8ms/step\n",
      "Epoch 12/100\n",
      "1/1 - 0s - loss: 5.2983e-05 - 6ms/epoch - 6ms/step\n",
      "Epoch 13/100\n",
      "1/1 - 0s - loss: 3.4276e-05 - 4ms/epoch - 4ms/step\n",
      "Epoch 14/100\n",
      "1/1 - 0s - loss: 2.0163e-05 - 2ms/epoch - 2ms/step\n",
      "Epoch 15/100\n",
      "1/1 - 0s - loss: 1.0204e-05 - 7ms/epoch - 7ms/step\n",
      "Epoch 16/100\n",
      "1/1 - 0s - loss: 3.8990e-06 - 6ms/epoch - 6ms/step\n",
      "Epoch 17/100\n",
      "1/1 - 0s - loss: 7.0342e-07 - 8ms/epoch - 8ms/step\n",
      "Epoch 18/100\n",
      "1/1 - 0s - loss: 4.2448e-08 - 9ms/epoch - 9ms/step\n",
      "Epoch 19/100\n",
      "1/1 - 0s - loss: 1.3296e-06 - 4ms/epoch - 4ms/step\n",
      "Epoch 20/100\n",
      "1/1 - 0s - loss: 3.9881e-06 - 2ms/epoch - 2ms/step\n",
      "Epoch 21/100\n",
      "1/1 - 0s - loss: 7.4732e-06 - 4ms/epoch - 4ms/step\n",
      "Epoch 22/100\n",
      "1/1 - 0s - loss: 1.1294e-05 - 8ms/epoch - 8ms/step\n",
      "Epoch 23/100\n",
      "1/1 - 0s - loss: 1.5029e-05 - 4ms/epoch - 4ms/step\n",
      "Epoch 24/100\n",
      "1/1 - 0s - loss: 1.8346e-05 - 12ms/epoch - 12ms/step\n",
      "Epoch 25/100\n",
      "1/1 - 0s - loss: 2.1000e-05 - 0s/epoch - 0s/step\n",
      "Epoch 26/100\n",
      "1/1 - 0s - loss: 2.2838e-05 - 3ms/epoch - 3ms/step\n",
      "Epoch 27/100\n",
      "1/1 - 0s - loss: 2.3795e-05 - 15ms/epoch - 15ms/step\n",
      "Epoch 28/100\n",
      "1/1 - 0s - loss: 2.3878e-05 - 0s/epoch - 0s/step\n",
      "Epoch 29/100\n",
      "1/1 - 0s - loss: 2.3157e-05 - 6ms/epoch - 6ms/step\n",
      "Epoch 30/100\n",
      "1/1 - 0s - loss: 2.1747e-05 - 10ms/epoch - 10ms/step\n",
      "Epoch 31/100\n",
      "1/1 - 0s - loss: 1.9793e-05 - 4ms/epoch - 4ms/step\n",
      "Epoch 32/100\n",
      "1/1 - 0s - loss: 1.7456e-05 - 6ms/epoch - 6ms/step\n",
      "Epoch 33/100\n",
      "1/1 - 0s - loss: 1.4899e-05 - 9ms/epoch - 9ms/step\n",
      "Epoch 34/100\n",
      "1/1 - 0s - loss: 1.2278e-05 - 9ms/epoch - 9ms/step\n",
      "Epoch 35/100\n",
      "1/1 - 0s - loss: 9.7296e-06 - 0s/epoch - 0s/step\n",
      "Epoch 36/100\n",
      "1/1 - 0s - loss: 7.3686e-06 - 0s/epoch - 0s/step\n",
      "Epoch 37/100\n",
      "1/1 - 0s - loss: 5.2824e-06 - 17ms/epoch - 17ms/step\n",
      "Epoch 38/100\n",
      "1/1 - 0s - loss: 3.5299e-06 - 0s/epoch - 0s/step\n",
      "Epoch 39/100\n",
      "1/1 - 0s - loss: 2.1414e-06 - 17ms/epoch - 17ms/step\n",
      "Epoch 40/100\n",
      "1/1 - 0s - loss: 1.1213e-06 - 0s/epoch - 0s/step\n",
      "Epoch 41/100\n",
      "1/1 - 0s - loss: 4.5114e-07 - 4ms/epoch - 4ms/step\n",
      "Epoch 42/100\n",
      "1/1 - 0s - loss: 9.4329e-08 - 12ms/epoch - 12ms/step\n",
      "Epoch 43/100\n",
      "1/1 - 0s - loss: 9.0066e-10 - 0s/epoch - 0s/step\n",
      "Epoch 44/100\n",
      "1/1 - 0s - loss: 1.1282e-07 - 12ms/epoch - 12ms/step\n",
      "Epoch 45/100\n",
      "1/1 - 0s - loss: 3.6897e-07 - 0s/epoch - 0s/step\n",
      "Epoch 46/100\n",
      "1/1 - 0s - loss: 7.0969e-07 - 7ms/epoch - 7ms/step\n",
      "Epoch 47/100\n",
      "1/1 - 0s - loss: 1.0806e-06 - 4ms/epoch - 4ms/step\n",
      "Epoch 48/100\n",
      "1/1 - 0s - loss: 1.4353e-06 - 6ms/epoch - 6ms/step\n",
      "Epoch 49/100\n",
      "1/1 - 0s - loss: 1.7378e-06 - 985us/epoch - 985us/step\n",
      "Epoch 50/100\n",
      "1/1 - 0s - loss: 1.9626e-06 - 552us/epoch - 552us/step\n",
      "Epoch 51/100\n",
      "1/1 - 0s - loss: 2.0957e-06 - 8ms/epoch - 8ms/step\n",
      "Epoch 52/100\n",
      "1/1 - 0s - loss: 2.1329e-06 - 6ms/epoch - 6ms/step\n",
      "Epoch 53/100\n",
      "1/1 - 0s - loss: 2.0791e-06 - 12ms/epoch - 12ms/step\n",
      "Epoch 54/100\n",
      "1/1 - 0s - loss: 1.9462e-06 - 3ms/epoch - 3ms/step\n",
      "Epoch 55/100\n",
      "1/1 - 0s - loss: 1.7508e-06 - 4ms/epoch - 4ms/step\n",
      "Epoch 56/100\n",
      "1/1 - 0s - loss: 1.5125e-06 - 0s/epoch - 0s/step\n",
      "Epoch 57/100\n",
      "1/1 - 0s - loss: 1.2516e-06 - 6ms/epoch - 6ms/step\n",
      "Epoch 58/100\n",
      "1/1 - 0s - loss: 9.8741e-07 - 8ms/epoch - 8ms/step\n",
      "Epoch 59/100\n",
      "1/1 - 0s - loss: 7.3702e-07 - 6ms/epoch - 6ms/step\n",
      "Epoch 60/100\n",
      "1/1 - 0s - loss: 5.1391e-07 - 6ms/epoch - 6ms/step\n",
      "Epoch 61/100\n",
      "1/1 - 0s - loss: 3.2764e-07 - 3ms/epoch - 3ms/step\n",
      "Epoch 62/100\n",
      "1/1 - 0s - loss: 1.8356e-07 - 5ms/epoch - 5ms/step\n",
      "Epoch 63/100\n",
      "1/1 - 0s - loss: 8.2996e-08 - 9ms/epoch - 9ms/step\n",
      "Epoch 64/100\n",
      "1/1 - 0s - loss: 2.3764e-08 - 0s/epoch - 0s/step\n",
      "Epoch 65/100\n",
      "1/1 - 0s - loss: 8.4508e-10 - 7ms/epoch - 7ms/step\n",
      "Epoch 66/100\n",
      "1/1 - 0s - loss: 7.2408e-09 - 11ms/epoch - 11ms/step\n",
      "Epoch 67/100\n",
      "1/1 - 0s - loss: 3.4849e-08 - 10ms/epoch - 10ms/step\n",
      "Epoch 68/100\n",
      "1/1 - 0s - loss: 7.5311e-08 - 8ms/epoch - 8ms/step\n",
      "Epoch 69/100\n",
      "1/1 - 0s - loss: 1.2075e-07 - 4ms/epoch - 4ms/step\n",
      "Epoch 70/100\n",
      "1/1 - 0s - loss: 1.6438e-07 - 8ms/epoch - 8ms/step\n",
      "Epoch 71/100\n",
      "1/1 - 0s - loss: 2.0090e-07 - 9ms/epoch - 9ms/step\n",
      "Epoch 72/100\n",
      "1/1 - 0s - loss: 2.2667e-07 - 0s/epoch - 0s/step\n",
      "Epoch 73/100\n",
      "1/1 - 0s - loss: 2.3984e-07 - 12ms/epoch - 12ms/step\n",
      "Epoch 74/100\n",
      "1/1 - 0s - loss: 2.4012e-07 - 0s/epoch - 0s/step\n",
      "Epoch 75/100\n",
      "1/1 - 0s - loss: 2.2860e-07 - 0s/epoch - 0s/step\n",
      "Epoch 76/100\n",
      "1/1 - 0s - loss: 2.0738e-07 - 17ms/epoch - 17ms/step\n",
      "Epoch 77/100\n",
      "1/1 - 0s - loss: 1.7922e-07 - 12ms/epoch - 12ms/step\n",
      "Epoch 78/100\n",
      "1/1 - 0s - loss: 1.4715e-07 - 1ms/epoch - 1ms/step\n",
      "Epoch 79/100\n",
      "1/1 - 0s - loss: 1.1412e-07 - 16ms/epoch - 16ms/step\n",
      "Epoch 80/100\n",
      "1/1 - 0s - loss: 8.2762e-08 - 0s/epoch - 0s/step\n",
      "Epoch 81/100\n",
      "1/1 - 0s - loss: 5.5156e-08 - 6ms/epoch - 6ms/step\n",
      "Epoch 82/100\n",
      "1/1 - 0s - loss: 3.2727e-08 - 10ms/epoch - 10ms/step\n",
      "Epoch 83/100\n",
      "1/1 - 0s - loss: 1.6212e-08 - 3ms/epoch - 3ms/step\n",
      "Epoch 84/100\n",
      "1/1 - 0s - loss: 5.6944e-09 - 3ms/epoch - 3ms/step\n",
      "Epoch 85/100\n",
      "1/1 - 0s - loss: 7.0224e-10 - 17ms/epoch - 17ms/step\n",
      "Epoch 86/100\n",
      "1/1 - 0s - loss: 3.4369e-10 - 8ms/epoch - 8ms/step\n",
      "Epoch 87/100\n",
      "1/1 - 0s - loss: 3.4596e-09 - 7ms/epoch - 7ms/step\n",
      "Epoch 88/100\n",
      "1/1 - 0s - loss: 8.7805e-09 - 15ms/epoch - 15ms/step\n",
      "Epoch 89/100\n",
      "1/1 - 0s - loss: 1.5068e-08 - 5ms/epoch - 5ms/step\n",
      "Epoch 90/100\n",
      "1/1 - 0s - loss: 2.1229e-08 - 3ms/epoch - 3ms/step\n",
      "Epoch 91/100\n",
      "1/1 - 0s - loss: 2.6404e-08 - 0s/epoch - 0s/step\n",
      "Epoch 92/100\n",
      "1/1 - 0s - loss: 3.0003e-08 - 6ms/epoch - 6ms/step\n",
      "Epoch 93/100\n",
      "1/1 - 0s - loss: 3.1727e-08 - 11ms/epoch - 11ms/step\n",
      "Epoch 94/100\n",
      "1/1 - 0s - loss: 3.1543e-08 - 5ms/epoch - 5ms/step\n",
      "Epoch 95/100\n",
      "1/1 - 0s - loss: 2.9639e-08 - 6ms/epoch - 6ms/step\n",
      "Epoch 96/100\n",
      "1/1 - 0s - loss: 2.6370e-08 - 4ms/epoch - 4ms/step\n",
      "Epoch 97/100\n",
      "1/1 - 0s - loss: 2.2184e-08 - 7ms/epoch - 7ms/step\n",
      "Epoch 98/100\n",
      "1/1 - 0s - loss: 1.7567e-08 - 13ms/epoch - 13ms/step\n",
      "Epoch 99/100\n",
      "1/1 - 0s - loss: 1.2974e-08 - 8ms/epoch - 8ms/step\n",
      "Epoch 100/100\n",
      "1/1 - 0s - loss: 8.7909e-09 - 0s/epoch - 0s/step\n"
     ]
    },
    {
     "data": {
      "text/plain": [
       "<keras.callbacks.History at 0x2235813ad60>"
      ]
     },
     "execution_count": 28,
     "metadata": {},
     "output_type": "execute_result"
    }
   ],
   "source": [
    "model = Sequential()\n",
    "model.add(LSTM(4, input_shape=(1, look_back)))\n",
    "model.add(Dense(1))\n",
    "model.compile(loss='mean_squared_error', optimizer='adam')\n",
    "model.fit(trainX, trainY, epochs=100, batch_size=1, verbose=2)"
   ]
  },
  {
   "cell_type": "code",
   "execution_count": 32,
   "id": "bf335f04",
   "metadata": {},
   "outputs": [
    {
     "data": {
      "text/plain": [
       "<keras.callbacks.History at 0x2235ab0fd60>"
      ]
     },
     "execution_count": 32,
     "metadata": {},
     "output_type": "execute_result"
    }
   ],
   "source": [
    "tf.keras.callbacks.History()"
   ]
  },
  {
   "cell_type": "code",
   "execution_count": 30,
   "id": "f847c43f",
   "metadata": {},
   "outputs": [
    {
     "data": {
      "image/png": "[encoded data removed]",
      "text/plain": [
       "<Figure size 432x288 with 1 Axes>"
      ]
     },
     "metadata": {
      "needs_background": "light"
     },
     "output_type": "display_data"
    }
   ],
   "source": [
    "# shift train predictions for plotting\n",
    "trainPredictPlot = np.empty_like(dataset)\n",
    "trainPredictPlot[:, :] = np.nan\n",
    "trainPredictPlot[look_back:len(trainPredict)+look_back, :] = trainPredict\n",
    "# shift test predictions for plotting\n",
    "testPredictPlot = np.empty_like(dataset)\n",
    "testPredictPlot[:, :] = np.nan\n",
    "testPredictPlot[len(trainPredict)+(look_back*2)+1:len(dataset)-1, :] = testPredict\n",
    "# plot baseline and predictions\n",
    "plt.plot(scaler.inverse_transform(dataset))\n",
    "plt.plot(trainPredictPlot)\n",
    "plt.plot(testPredictPlot)\n",
    "plt.show()"
   ]
  },
  {
   "cell_type": "code",
   "execution_count": null,
   "id": "f944f58a",
   "metadata": {},
   "outputs": [],
   "source": []
  }
 ],
 "metadata": {
  "kernelspec": {
   "display_name": "Python 3 (ipykernel)",
   "language": "python",
   "name": "python3"
  },
  "language_info": {
   "codemirror_mode": {
    "name": "ipython",
    "version": 3
   },
   "file_extension": ".py",
   "mimetype": "text/x-python",
   "name": "python",
   "nbconvert_exporter": "python",
   "pygments_lexer": "ipython3",
   "version": "3.9.7"
  }
 },
 "nbformat": 4,
 "nbformat_minor": 5
}
